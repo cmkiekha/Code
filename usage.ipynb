{
 "cells": [
  {
   "cell_type": "code",
   "execution_count": 2,
   "metadata": {},
   "outputs": [],
   "source": [
    "from models.xgboost_model import Xgboost\n",
    "from utils.data_loader import EngineeringDataLoader\n",
    "\n"
   ]
  },
  {
   "cell_type": "code",
   "execution_count": 5,
   "metadata": {},
   "outputs": [
    {
     "name": "stdout",
     "output_type": "stream",
     "text": [
      "--------------------------------------------------\n",
      "The number of training samples is 56\n",
      "The number of testing samples is 14\n",
      "--------------------------------------------------\n",
      "[10.472568 18.001448 27.614096  9.39932  19.491943 35.93639  33.537693\n",
      "  8.809966 29.626478 17.076633 18.541576 20.181458 14.011788 13.928259]\n"
     ]
    }
   ],
   "source": [
    "data = EngineeringDataLoader('http://apmonitor.com/pds/uploads/Main/manufacturing.txt', 'tension_strength')\n",
    "model = Xgboost(data.test_size, data.random_state)\n",
    "model.train(data.X_train, data.y_train)\n",
    "ypred = model.predict(data.X_test)\n",
    "print(ypred)\n"
   ]
  }
 ],
 "metadata": {
  "kernelspec": {
   "display_name": "base",
   "language": "python",
   "name": "python3"
  },
  "language_info": {
   "codemirror_mode": {
    "name": "ipython",
    "version": 3
   },
   "file_extension": ".py",
   "mimetype": "text/x-python",
   "name": "python",
   "nbconvert_exporter": "python",
   "pygments_lexer": "ipython3",
   "version": "3.9.12"
  },
  "orig_nbformat": 4,
  "vscode": {
   "interpreter": {
    "hash": "06360602184f50933a993d95a13e26992e4b6fcbe2f7e5523bacf3a85e795133"
   }
  }
 },
 "nbformat": 4,
 "nbformat_minor": 2
}
